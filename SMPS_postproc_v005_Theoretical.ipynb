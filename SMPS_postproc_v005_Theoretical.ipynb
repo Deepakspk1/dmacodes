{
 "cells": [
  {
   "cell_type": "code",
   "execution_count": 1,
   "id": "2e43c407",
   "metadata": {},
   "outputs": [
    {
     "data": {
      "text/plain": [
       "'/home/jose/Desktop/Gitlab/hogan_lab/01_ESP/DMA_calibration'"
      ]
     },
     "execution_count": 1,
     "metadata": {},
     "output_type": "execute_result"
    }
   ],
   "source": [
    "pwd"
   ]
  },
  {
   "cell_type": "markdown",
   "id": "65a26c52",
   "metadata": {},
   "source": [
    "# Reading results of SMPS"
   ]
  },
  {
   "cell_type": "markdown",
   "id": "d05f249e",
   "metadata": {},
   "source": [
    "This script aims at reading and interpreting the results obtained by SMPS measurements."
   ]
  },
  {
   "cell_type": "code",
   "execution_count": 2,
   "id": "11488853",
   "metadata": {},
   "outputs": [],
   "source": [
    "# Rows info:\n",
    "# 0 DAQ CV (V)\n",
    "# 1 DMA HV (V)\n",
    "# 2 Mobility (m2/s/V)\n",
    "# 3 Mobility diameter (nm)\n",
    "# 4 DMA-4136_220428172109.dat (#/cc)\n",
    "# 5 current time (s)"
   ]
  },
  {
   "cell_type": "code",
   "execution_count": 3,
   "id": "8ee96b33",
   "metadata": {},
   "outputs": [],
   "source": [
    "k_B = 1.380650524e-23 # J/K\n",
    "q_e = 1.602e-19       # C"
   ]
  },
  {
   "cell_type": "code",
   "execution_count": 4,
   "id": "09576af4",
   "metadata": {},
   "outputs": [],
   "source": [
    "from linker import *\n",
    "%matplotlib notebook"
   ]
  },
  {
   "cell_type": "code",
   "execution_count": 5,
   "id": "f49f0845",
   "metadata": {},
   "outputs": [],
   "source": [
    "import directDMA2py"
   ]
  },
  {
   "cell_type": "code",
   "execution_count": 6,
   "id": "b4aea2c4",
   "metadata": {},
   "outputs": [],
   "source": [
    "def Open_data(filepath,i=0):\n",
    "    print(\"Opening:  \",filepath, \" - i= \",i)\n",
    "    dma_data = directDMA2py.dma(filepath)\n",
    "    return dma_data\n",
    "\n",
    "def Discard_empty_files(path,files):\n",
    "    files_ne = []\n",
    "    for file in files:\n",
    "        try:\n",
    "            Open_data(path+\"/\"+file)\n",
    "            files_ne.append(file)\n",
    "        except:\n",
    "            print(\"Discarded: \", file)\n",
    "            # discarded file\n",
    "    return files_ne"
   ]
  },
  {
   "cell_type": "code",
   "execution_count": 7,
   "id": "0349a2ba",
   "metadata": {
    "scrolled": true
   },
   "outputs": [
    {
     "name": "stdout",
     "output_type": "stream",
     "text": [
      "Opening:   measurements/tDMA-preeliminar/tDMA_test03/AIM2.P34  - i=  0\n",
      "Discarded:  AIM2.P34\n",
      "Opening:   measurements/tDMA-preeliminar/tDMA_test03/AIM3.S34  - i=  0\n",
      "Discarded:  AIM3.S34\n",
      "Opening:   measurements/tDMA-preeliminar/tDMA_test03/AIM3.txt  - i=  0\n",
      "Discarded:  AIM3.txt\n",
      "Opening:   measurements/tDMA-preeliminar/tDMA_test03/AIM2.S34  - i=  0\n",
      "Discarded:  AIM2.S34\n",
      "Opening:   measurements/tDMA-preeliminar/tDMA_test03/AIM4_5_25_2022.S34  - i=  0\n",
      "Discarded:  AIM4_5_25_2022.S34\n",
      "Opening:   measurements/tDMA-preeliminar/tDMA_test03/AIM3.p34  - i=  0\n",
      "Discarded:  AIM3.p34\n",
      "Opening:   measurements/tDMA-preeliminar/tDMA_test03/AIM4_5_25_2022.p34  - i=  0\n",
      "Discarded:  AIM4_5_25_2022.p34\n",
      "Opening:   measurements/tDMA-preeliminar/tDMA_test03/AIM4_5_25_2022.txt  - i=  0\n",
      "Discarded:  AIM4_5_25_2022.txt\n"
     ]
    }
   ],
   "source": [
    "import os\n",
    "path = \"measurements/tDMA-preeliminar/tDMA_test03\"\n",
    "files = os.listdir(path)\n",
    "files = Discard_empty_files(path,files)\n",
    "files.sort()"
   ]
  },
  {
   "cell_type": "code",
   "execution_count": null,
   "id": "d02e2734",
   "metadata": {},
   "outputs": [],
   "source": []
  },
  {
   "cell_type": "code",
   "execution_count": null,
   "id": "f5afaac9",
   "metadata": {},
   "outputs": [],
   "source": []
  },
  {
   "cell_type": "code",
   "execution_count": null,
   "id": "e4bf0f43",
   "metadata": {},
   "outputs": [],
   "source": [
    "def Plot_new(path,files,ax1,rang):\n",
    "    i=rang[0]\n",
    "    for file in files[rang[0]:rang[1]]:\n",
    "        dma_data = Open_data(path+\"/\"+file,i)\n",
    "        ax1.plot(dma_data.data.loc[3], dma_data.data.loc[4],label=file)\n",
    "        i=i+1\n",
    "    return"
   ]
  },
  {
   "cell_type": "code",
   "execution_count": null,
   "id": "cba08f42",
   "metadata": {},
   "outputs": [],
   "source": [
    "files"
   ]
  },
  {
   "cell_type": "code",
   "execution_count": null,
   "id": "e3a8b54f",
   "metadata": {},
   "outputs": [],
   "source": [
    "files1 = ['KCl_nDMA_scan_check_220519101248.dat',\n",
    "          'KCl_nDMA_scan_check_220519101755.dat',\n",
    "          'KCl_nDMA_scan_check_220519105558.dat',\n",
    "          'KCl_nDMA_scan_check_220519110031.dat']\n",
    "\n",
    "files2 = ['KCl_LDMA_scan_check2_220519103519.dat',\n",
    "          'KCl_LDMA_scan_check_220519102458.dat',\n",
    "          'KCl_LDMA_scan_check_220519102739.dat',\n",
    "          'KCl_LDMA_scan_check_220519103011.dat']\n",
    "\n",
    "\n",
    "fig, ax1 = plt.subplots(num=None, figsize=(10, 6), dpi=80, facecolor='w', edgecolor='k')\n",
    "plt.rc('xtick', labelsize=17) \n",
    "plt.rc('ytick', labelsize=17) \n",
    "\n",
    "Plot_new(path,files1,ax1,[0,4])\n",
    "Plot_new(path,files2,ax1,[0,4])\n",
    "plt.ylim([1e+00,2e+02]) #plt.yscale(\"log\")\n",
    "ax1.set_xlabel('Mobility diameter Dp (nm)', fontsize=20)\n",
    "ax1.set_ylabel('Part. number conc. (#/cm^3)', fontsize=20)\n",
    "plt.legend(fontsize=8, loc=0), plt.show()\n",
    "\n",
    "title = \"nDMA/LDMA scan check\"\n",
    "plt.title(title,fontsize=17)"
   ]
  },
  {
   "cell_type": "code",
   "execution_count": null,
   "id": "2803f895",
   "metadata": {},
   "outputs": [],
   "source": []
  }
 ],
 "metadata": {
  "kernelspec": {
   "display_name": "Python 3 (ipykernel)",
   "language": "python",
   "name": "python3"
  },
  "language_info": {
   "codemirror_mode": {
    "name": "ipython",
    "version": 3
   },
   "file_extension": ".py",
   "mimetype": "text/x-python",
   "name": "python",
   "nbconvert_exporter": "python",
   "pygments_lexer": "ipython3",
   "version": "3.8.10"
  }
 },
 "nbformat": 4,
 "nbformat_minor": 5
}
