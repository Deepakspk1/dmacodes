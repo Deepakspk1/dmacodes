{
 "cells": [
  {
   "cell_type": "code",
   "execution_count": null,
   "id": "2e43c407",
   "metadata": {},
   "outputs": [],
   "source": [
    "pwd"
   ]
  },
  {
   "cell_type": "markdown",
   "id": "65a26c52",
   "metadata": {},
   "source": [
    "# Reading results of SMPS"
   ]
  },
  {
   "cell_type": "markdown",
   "id": "d05f249e",
   "metadata": {},
   "source": [
    "This script aims at reading and interpreting the results obtained by SMPS measurements."
   ]
  },
  {
   "cell_type": "code",
   "execution_count": null,
   "id": "11488853",
   "metadata": {},
   "outputs": [],
   "source": [
    "# Rows info:\n",
    "# 0 DAQ CV (V)\n",
    "# 1 DMA HV (V)\n",
    "# 2 Mobility (m2/s/V)\n",
    "# 3 Mobility diameter (nm)\n",
    "# 4 DMA-4136_220428172109.dat (#/cc)\n",
    "# 5 current time (s)"
   ]
  },
  {
   "cell_type": "code",
   "execution_count": null,
   "id": "8ee96b33",
   "metadata": {},
   "outputs": [],
   "source": [
    "k_B = 1.380650524e-23 # J/K\n",
    "q_e = 1.602e-19       # C"
   ]
  },
  {
   "cell_type": "code",
   "execution_count": null,
   "id": "09576af4",
   "metadata": {},
   "outputs": [],
   "source": [
    "from linker import *\n",
    "%matplotlib notebook"
   ]
  },
  {
   "cell_type": "code",
   "execution_count": null,
   "id": "f49f0845",
   "metadata": {},
   "outputs": [],
   "source": [
    "import directDMA2py"
   ]
  },
  {
   "cell_type": "code",
   "execution_count": null,
   "id": "0067a314",
   "metadata": {},
   "outputs": [],
   "source": [
    "filepath = \"measurements/DMA-4136_220428172109.dat\"\n",
    "#filepath = \"measurements/DMA-4136_220428171526.dat\"\n",
    "\n",
    "#filepath = \"measurements/DMA-4136_220428171101.dat\""
   ]
  },
  {
   "cell_type": "code",
   "execution_count": null,
   "id": "e7361e60",
   "metadata": {},
   "outputs": [],
   "source": [
    "dma_data = directDMA2py.dma(filepath)\n",
    "dma_data.data"
   ]
  },
  {
   "cell_type": "code",
   "execution_count": null,
   "id": "08f9f1cf",
   "metadata": {},
   "outputs": [],
   "source": [
    "fig, ax1 = plt.subplots(num=None, figsize=(10, 6), dpi=80, facecolor='w', edgecolor='k')\n",
    "plt.rc('xtick', labelsize=17) \n",
    "plt.rc('ytick', labelsize=17) \n",
    "title = \"DMA-CPC calibration, PSL D=200 nm\"\n",
    "plt.title(title,fontsize=17)\n",
    "ax1.plot(dma_data.data.loc[1],dma_data.data.loc[4],\"o-\",c=\"maroon\",label=\"DMA-CPC\")\n",
    "#plt.yscale(\"log\")\n",
    "ax1.set_xlabel('DMA HV (V)', fontsize=20)\n",
    "ax1.set_ylabel('Part. number conc. (#/cm^3)', fontsize=20)\n",
    "plt.legend(fontsize=18, loc=0), plt.show()\n",
    "plt.savefig(\"RES_out/DMA_CPC_voltage.png\")"
   ]
  },
  {
   "cell_type": "code",
   "execution_count": null,
   "id": "eba91fca",
   "metadata": {},
   "outputs": [],
   "source": [
    "R1 = 9.37e-03         # m\n",
    "R2 = 19.61e-03        # m\n",
    "L = 44.369e-02        # m\n",
    "A = L/np.log(R2/R1)\n",
    "\n",
    "V = dma_data.data.loc[1].values\n",
    "\n",
    "sheath_flow = 1.540000E+0 # lpm\n",
    "Z_pt = (2*sheath_flow * 1.66667e-5)/(4 * np.pi * A * V)"
   ]
  },
  {
   "cell_type": "code",
   "execution_count": null,
   "id": "554d4292",
   "metadata": {},
   "outputs": [],
   "source": [
    "fig, ax1 = plt.subplots(num=None, figsize=(10, 6), dpi=80, facecolor='w', edgecolor='k')\n",
    "plt.rc('xtick', labelsize=17) \n",
    "plt.rc('ytick', labelsize=17) \n",
    "title = \"DMA-CPC calibration, PSL (D=200 nm)\"\n",
    "plt.title(title,fontsize=17)\n",
    "ax1.plot(V,Z_pt*(1e+09),\"o-\",c=\"maroon\",label=\"DMA-CPC\")\n",
    "ax1.plot(dma_data.data.loc[1],dma_data.data.loc[2]*(1e+09),\"--\",c=\"gold\",label=\"DMA-CPC, Mobility\")\n",
    "plt.yscale(\"log\")\n",
    "ax1.set_xlabel('DMA HV (V)', fontsize=20)\n",
    "ax1.set_ylabel('Mobility (m2/s/V)', fontsize=20)\n",
    "plt.legend(fontsize=18, loc=0), plt.show()\n",
    "plt.savefig(\"RES_out/DMA_mobility.png\")"
   ]
  },
  {
   "cell_type": "code",
   "execution_count": null,
   "id": "be6f6519",
   "metadata": {},
   "outputs": [],
   "source": [
    "def Search_Dp(x):\n",
    "    particle = Particle(x)\n",
    "    return (particle[\"mobility\"]-Z_pti)/Z_pti\n",
    "\n",
    "def samesign(a, b):\n",
    "        return a * b > 0\n",
    "\n",
    "def bisect(func, low, high):\n",
    "    'Find root of continuous function where f(low) and f(high) have opposite signs'\n",
    "\n",
    "    assert not samesign(func(low), func(high))\n",
    "\n",
    "    for i in range(54):\n",
    "        midpoint = (low + high) / 2.0\n",
    "        if samesign(func(low), func(midpoint)):\n",
    "            low = midpoint\n",
    "        else:\n",
    "            high = midpoint\n",
    "\n",
    "    return midpoint"
   ]
  },
  {
   "cell_type": "code",
   "execution_count": null,
   "id": "d9bc388f",
   "metadata": {},
   "outputs": [],
   "source": [
    "# Gas dinamic viscosity\n",
    "def Mu_gas(T_g):\n",
    "    mu_g = (18.203E-6)*(293.15+110)/(T_g+110)*(T_g/293.15)**(1.5)\n",
    "    return mu_g\n",
    "# Gas mean free path\n",
    "def Lambda_gas(T_g):\n",
    "    P_g = 101300\n",
    "    lambda_g = 66.5E-9*(101300/P_g)*(T_g/293.15)*(1+110/293.15)/(1+110/T_g)\n",
    "    return lambda_g\n",
    "# Gas Knudsen number\n",
    "def GET_Cc(R,T_g):\n",
    "    A1 = 1.142\n",
    "    A2 = 0.558\n",
    "    A3 = 0.999\n",
    "    lambda_g = Lambda_gas(T_g)\n",
    "    Kn = lambda_g/R\n",
    "    return 1 + A1*Kn + A2*Kn*np.exp(-A3/Kn)\n",
    "# Friction coefficient\n",
    "def friction(Dp,T_g):\n",
    "    mu_g = Mu_gas(T_g)\n",
    "    Cc = GET_Cc(Dp*0.5,T_g)\n",
    "    f =  3*np.pi*mu_g*Dp/Cc\n",
    "    return f\n",
    "\n",
    "def Particle(dp_new):\n",
    "    q = 1\n",
    "    f = friction(dp_new,T_g)\n",
    "    particle = {\"diameter\": dp_new,\n",
    "               \"friction\": f,\n",
    "               \"mobility\": q*q_e/f}\n",
    "    return particle"
   ]
  },
  {
   "cell_type": "code",
   "execution_count": null,
   "id": "95f89972",
   "metadata": {},
   "outputs": [],
   "source": [
    "T_g = 300\n",
    "Dp = np.zeros_like(Z_pt)\n",
    "\n",
    "for i in range(len(Z_pt)):\n",
    "    Z_pti = Z_pt[i]\n",
    "    Dp[i] = bisect(Search_Dp, 1e-09, 1e-03)"
   ]
  },
  {
   "cell_type": "code",
   "execution_count": null,
   "id": "3cb26a54",
   "metadata": {},
   "outputs": [],
   "source": [
    "from scipy.stats import norm\n",
    "\n",
    "mean = 200\n",
    "std = 5.3\n",
    "\n",
    "Dp_vec = np.linspace(np.min(Dp),np.max(Dp),200)\n",
    "\n",
    "norm = norm.pdf(Dp_vec * (1e+09), mean, std)\n",
    "norm = norm/np.max(norm) * np.max(dma_data.data.loc[4])"
   ]
  },
  {
   "cell_type": "code",
   "execution_count": null,
   "id": "80a7e131",
   "metadata": {},
   "outputs": [],
   "source": [
    "fig, ax1 = plt.subplots(num=None, figsize=(10, 6), dpi=80, facecolor='w', edgecolor='k')\n",
    "plt.rc('xtick', labelsize=17) \n",
    "plt.rc('ytick', labelsize=17) \n",
    "title = \"DMA-CPC calibration, PSL (D=200 nm)\"\n",
    "plt.title(title,fontsize=17)\n",
    "ax1.plot(Dp*(1e+09), dma_data.data.loc[4],\"o-\",c=\"maroon\",label=\"DMA-CPC\")\n",
    "ax1.plot(dma_data.data.loc[3], dma_data.data.loc[4],\"--\",c=\"gold\",label=\"DMA-CPC, Diameter\")\n",
    "ax1.plot(Dp_vec*(1e+09), norm,\"-\",c=\"black\",label=\"PSL\")\n",
    "#plt.yscale(\"log\")\n",
    "ax1.set_xlabel('Mobility diameter Dp (nm)', fontsize=20)\n",
    "ax1.set_ylabel('Part. number conc. (#/cm^3)', fontsize=20)\n",
    "plt.legend(fontsize=18, loc=0), plt.show()\n",
    "plt.savefig(\"RES_out/DMA_mobility.png\")"
   ]
  },
  {
   "cell_type": "code",
   "execution_count": null,
   "id": "2803f895",
   "metadata": {},
   "outputs": [],
   "source": []
  }
 ],
 "metadata": {
  "kernelspec": {
   "display_name": "Python 3 (ipykernel)",
   "language": "python",
   "name": "python3"
  },
  "language_info": {
   "codemirror_mode": {
    "name": "ipython",
    "version": 3
   },
   "file_extension": ".py",
   "mimetype": "text/x-python",
   "name": "python",
   "nbconvert_exporter": "python",
   "pygments_lexer": "ipython3",
   "version": "3.9.12"
  }
 },
 "nbformat": 4,
 "nbformat_minor": 5
}
